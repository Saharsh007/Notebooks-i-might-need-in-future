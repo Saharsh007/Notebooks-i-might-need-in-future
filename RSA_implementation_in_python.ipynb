{
  "nbformat": 4,
  "nbformat_minor": 0,
  "metadata": {
    "colab": {
      "name": "RSA implementation in python.ipynb",
      "provenance": []
    },
    "kernelspec": {
      "name": "python3",
      "display_name": "Python 3"
    }
  },
  "cells": [
    {
      "cell_type": "code",
      "metadata": {
        "id": "h8RTGhtbKKRF",
        "outputId": "c0661e3e-89ee-4ca1-91a4-24341e193841",
        "colab": {
          "base_uri": "https://localhost:8080/",
          "height": 1000
        }
      },
      "source": [
        "!pip install pycrypto\n",
        "# !pip install crypto\n",
        "!apt-get install libgmp-dev libmpfr-dev libmpc-dev\n",
        "!pip install git+https://github.com/uber/ludwig.git@65ca8e762e109ea1cedbc1f666a4a8e9b4781ea1\n",
        "!sudo pip3 install gmpy\n",
        "!apt-get -f install\n",
        "!pip2 install gmpy"
      ],
      "execution_count": 1,
      "outputs": [
        {
          "output_type": "stream",
          "text": [
            "Collecting pycrypto\n",
            "\u001b[?25l  Downloading https://files.pythonhosted.org/packages/60/db/645aa9af249f059cc3a368b118de33889219e0362141e75d4eaf6f80f163/pycrypto-2.6.1.tar.gz (446kB)\n",
            "\r\u001b[K     |▊                               | 10kB 16.1MB/s eta 0:00:01\r\u001b[K     |█▌                              | 20kB 1.8MB/s eta 0:00:01\r\u001b[K     |██▏                             | 30kB 2.3MB/s eta 0:00:01\r\u001b[K     |███                             | 40kB 2.6MB/s eta 0:00:01\r\u001b[K     |███▊                            | 51kB 2.1MB/s eta 0:00:01\r\u001b[K     |████▍                           | 61kB 2.4MB/s eta 0:00:01\r\u001b[K     |█████▏                          | 71kB 2.6MB/s eta 0:00:01\r\u001b[K     |█████▉                          | 81kB 2.8MB/s eta 0:00:01\r\u001b[K     |██████▋                         | 92kB 3.0MB/s eta 0:00:01\r\u001b[K     |███████▍                        | 102kB 2.9MB/s eta 0:00:01\r\u001b[K     |████████                        | 112kB 2.9MB/s eta 0:00:01\r\u001b[K     |████████▉                       | 122kB 2.9MB/s eta 0:00:01\r\u001b[K     |█████████▌                      | 133kB 2.9MB/s eta 0:00:01\r\u001b[K     |██████████▎                     | 143kB 2.9MB/s eta 0:00:01\r\u001b[K     |███████████                     | 153kB 2.9MB/s eta 0:00:01\r\u001b[K     |███████████▊                    | 163kB 2.9MB/s eta 0:00:01\r\u001b[K     |████████████▌                   | 174kB 2.9MB/s eta 0:00:01\r\u001b[K     |█████████████▏                  | 184kB 2.9MB/s eta 0:00:01\r\u001b[K     |██████████████                  | 194kB 2.9MB/s eta 0:00:01\r\u001b[K     |██████████████▊                 | 204kB 2.9MB/s eta 0:00:01\r\u001b[K     |███████████████▍                | 215kB 2.9MB/s eta 0:00:01\r\u001b[K     |████████████████▏               | 225kB 2.9MB/s eta 0:00:01\r\u001b[K     |█████████████████               | 235kB 2.9MB/s eta 0:00:01\r\u001b[K     |█████████████████▋              | 245kB 2.9MB/s eta 0:00:01\r\u001b[K     |██████████████████▍             | 256kB 2.9MB/s eta 0:00:01\r\u001b[K     |███████████████████             | 266kB 2.9MB/s eta 0:00:01\r\u001b[K     |███████████████████▉            | 276kB 2.9MB/s eta 0:00:01\r\u001b[K     |████████████████████▋           | 286kB 2.9MB/s eta 0:00:01\r\u001b[K     |█████████████████████▎          | 296kB 2.9MB/s eta 0:00:01\r\u001b[K     |██████████████████████          | 307kB 2.9MB/s eta 0:00:01\r\u001b[K     |██████████████████████▊         | 317kB 2.9MB/s eta 0:00:01\r\u001b[K     |███████████████████████▌        | 327kB 2.9MB/s eta 0:00:01\r\u001b[K     |████████████████████████▎       | 337kB 2.9MB/s eta 0:00:01\r\u001b[K     |█████████████████████████       | 348kB 2.9MB/s eta 0:00:01\r\u001b[K     |█████████████████████████▊      | 358kB 2.9MB/s eta 0:00:01\r\u001b[K     |██████████████████████████▍     | 368kB 2.9MB/s eta 0:00:01\r\u001b[K     |███████████████████████████▏    | 378kB 2.9MB/s eta 0:00:01\r\u001b[K     |████████████████████████████    | 389kB 2.9MB/s eta 0:00:01\r\u001b[K     |████████████████████████████▋   | 399kB 2.9MB/s eta 0:00:01\r\u001b[K     |█████████████████████████████▍  | 409kB 2.9MB/s eta 0:00:01\r\u001b[K     |██████████████████████████████  | 419kB 2.9MB/s eta 0:00:01\r\u001b[K     |██████████████████████████████▉ | 430kB 2.9MB/s eta 0:00:01\r\u001b[K     |███████████████████████████████▋| 440kB 2.9MB/s eta 0:00:01\r\u001b[K     |████████████████████████████████| 450kB 2.9MB/s \n",
            "\u001b[?25hBuilding wheels for collected packages: pycrypto\n",
            "  Building wheel for pycrypto (setup.py) ... \u001b[?25l\u001b[?25hdone\n",
            "  Created wheel for pycrypto: filename=pycrypto-2.6.1-cp36-cp36m-linux_x86_64.whl size=499939 sha256=c7595d519e36d35cc490b206ecd72e48f4a4ce364dd79822a9a2eb1e3cca4d69\n",
            "  Stored in directory: /root/.cache/pip/wheels/27/02/5e/77a69d0c16bb63c6ed32f5386f33a2809c94bd5414a2f6c196\n",
            "Successfully built pycrypto\n",
            "Installing collected packages: pycrypto\n",
            "Successfully installed pycrypto-2.6.1\n",
            "Reading package lists... Done\n",
            "Building dependency tree       \n",
            "Reading state information... Done\n",
            "The following additional packages will be installed:\n",
            "  libgmpxx4ldbl\n",
            "Suggested packages:\n",
            "  gmp-doc libgmp10-doc libmpfr-doc\n",
            "The following NEW packages will be installed:\n",
            "  libgmp-dev libgmpxx4ldbl libmpc-dev libmpfr-dev\n",
            "0 upgraded, 4 newly installed, 0 to remove and 21 not upgraded.\n",
            "Need to get 625 kB of archives.\n",
            "After this operation, 3,178 kB of additional disk space will be used.\n",
            "Get:1 http://archive.ubuntu.com/ubuntu bionic/main amd64 libgmpxx4ldbl amd64 2:6.1.2+dfsg-2 [8,964 B]\n",
            "Get:2 http://archive.ubuntu.com/ubuntu bionic/main amd64 libgmp-dev amd64 2:6.1.2+dfsg-2 [316 kB]\n",
            "Get:3 http://archive.ubuntu.com/ubuntu bionic/main amd64 libmpfr-dev amd64 4.0.1-1 [249 kB]\n",
            "Get:4 http://archive.ubuntu.com/ubuntu bionic/main amd64 libmpc-dev amd64 1.1.0-1 [50.5 kB]\n",
            "Fetched 625 kB in 1s (925 kB/s)\n",
            "Selecting previously unselected package libgmpxx4ldbl:amd64.\n",
            "(Reading database ... 144611 files and directories currently installed.)\n",
            "Preparing to unpack .../libgmpxx4ldbl_2%3a6.1.2+dfsg-2_amd64.deb ...\n",
            "Unpacking libgmpxx4ldbl:amd64 (2:6.1.2+dfsg-2) ...\n",
            "Selecting previously unselected package libgmp-dev:amd64.\n",
            "Preparing to unpack .../libgmp-dev_2%3a6.1.2+dfsg-2_amd64.deb ...\n",
            "Unpacking libgmp-dev:amd64 (2:6.1.2+dfsg-2) ...\n",
            "Selecting previously unselected package libmpfr-dev:amd64.\n",
            "Preparing to unpack .../libmpfr-dev_4.0.1-1_amd64.deb ...\n",
            "Unpacking libmpfr-dev:amd64 (4.0.1-1) ...\n",
            "Selecting previously unselected package libmpc-dev:amd64.\n",
            "Preparing to unpack .../libmpc-dev_1.1.0-1_amd64.deb ...\n",
            "Unpacking libmpc-dev:amd64 (1.1.0-1) ...\n",
            "Setting up libgmpxx4ldbl:amd64 (2:6.1.2+dfsg-2) ...\n",
            "Setting up libgmp-dev:amd64 (2:6.1.2+dfsg-2) ...\n",
            "Setting up libmpfr-dev:amd64 (4.0.1-1) ...\n",
            "Setting up libmpc-dev:amd64 (1.1.0-1) ...\n",
            "Processing triggers for libc-bin (2.27-3ubuntu1.2) ...\n",
            "/sbin/ldconfig.real: /usr/local/lib/python3.6/dist-packages/ideep4py/lib/libmkldnn.so.0 is not a symbolic link\n",
            "\n",
            "Collecting git+https://github.com/uber/ludwig.git@65ca8e762e109ea1cedbc1f666a4a8e9b4781ea1\n",
            "  Cloning https://github.com/uber/ludwig.git (to revision 65ca8e762e109ea1cedbc1f666a4a8e9b4781ea1) to /tmp/pip-req-build-f3ygzsbk\n",
            "  Running command git clone -q https://github.com/uber/ludwig.git /tmp/pip-req-build-f3ygzsbk\n",
            "  Running command git checkout -q 65ca8e762e109ea1cedbc1f666a4a8e9b4781ea1\n",
            "Requirement already satisfied: Cython>=0.25 in /usr/local/lib/python3.6/dist-packages (from ludwig==0.2.1) (0.29.21)\n",
            "Requirement already satisfied: h5py>=2.6 in /usr/local/lib/python3.6/dist-packages (from ludwig==0.2.1) (2.10.0)\n",
            "Requirement already satisfied: matplotlib>=3.0 in /usr/local/lib/python3.6/dist-packages (from ludwig==0.2.1) (3.2.2)\n",
            "Requirement already satisfied: numpy>=1.15 in /usr/local/lib/python3.6/dist-packages (from ludwig==0.2.1) (1.18.5)\n",
            "Requirement already satisfied: pandas>=0.19 in /usr/local/lib/python3.6/dist-packages (from ludwig==0.2.1) (1.1.2)\n",
            "Requirement already satisfied: scipy>=0.18 in /usr/local/lib/python3.6/dist-packages (from ludwig==0.2.1) (1.4.1)\n",
            "Requirement already satisfied: scikit-learn in /usr/local/lib/python3.6/dist-packages (from ludwig==0.2.1) (0.22.2.post1)\n",
            "Collecting scikit-image==0.14.2\n",
            "\u001b[?25l  Downloading https://files.pythonhosted.org/packages/24/06/d560630eb9e36d90d69fe57d9ff762d8f501664ce478b8a0ae132b3c3008/scikit_image-0.14.2-cp36-cp36m-manylinux1_x86_64.whl (25.3MB)\n",
            "\u001b[K     |████████████████████████████████| 25.3MB 162kB/s \n",
            "\u001b[?25hRequirement already satisfied: seaborn>=0.7 in /usr/local/lib/python3.6/dist-packages (from ludwig==0.2.1) (0.11.0)\n",
            "Requirement already satisfied: spacy>=2.1 in /usr/local/lib/python3.6/dist-packages (from ludwig==0.2.1) (2.2.4)\n",
            "Requirement already satisfied: tqdm in /usr/local/lib/python3.6/dist-packages (from ludwig==0.2.1) (4.41.1)\n",
            "Requirement already satisfied: tabulate>=0.7 in /usr/local/lib/python3.6/dist-packages (from ludwig==0.2.1) (0.8.7)\n",
            "Collecting tensorflow==1.14.0\n",
            "\u001b[?25l  Downloading https://files.pythonhosted.org/packages/de/f0/96fb2e0412ae9692dbf400e5b04432885f677ad6241c088ccc5fe7724d69/tensorflow-1.14.0-cp36-cp36m-manylinux1_x86_64.whl (109.2MB)\n",
            "\u001b[K     |████████████████████████████████| 109.2MB 45kB/s \n",
            "\u001b[?25hRequirement already satisfied: PyYAML>=3.12 in /usr/local/lib/python3.6/dist-packages (from ludwig==0.2.1) (3.13)\n",
            "\u001b[33mWARNING: Retrying (Retry(total=4, connect=None, read=None, redirect=None, status=None)) after connection broken by 'ProtocolError('Connection aborted.', ConnectionResetError(104, 'Connection reset by peer'))': /simple/fastapi/\u001b[0m\n",
            "Collecting fastapi\n",
            "\u001b[?25l  Downloading https://files.pythonhosted.org/packages/48/65/454fb440d48098845875b5ba8599efafee1efabb97720a584c78674e6d26/fastapi-0.61.1-py3-none-any.whl (48kB)\n",
            "\u001b[K     |████████████████████████████████| 51kB 5.9MB/s \n",
            "\u001b[?25hCollecting pydantic==0.30.0\n",
            "\u001b[?25l  Downloading https://files.pythonhosted.org/packages/fd/43/b64be0568f97bc08472685b305d6aac0378e75b58bcbf630a86ab35c5cd0/pydantic-0.30-cp36-cp36m-manylinux1_x86_64.whl (5.0MB)\n",
            "\u001b[K     |████████████████████████████████| 5.0MB 49.4MB/s \n",
            "\u001b[?25hCollecting uvicorn\n",
            "\u001b[?25l  Downloading https://files.pythonhosted.org/packages/30/cc/01cc4cb980dfcf04eb283b6497c7f280928a0b02c68c0f85b6901e7716ae/uvicorn-0.12.2-py3-none-any.whl (45kB)\n",
            "\u001b[K     |████████████████████████████████| 51kB 6.5MB/s \n",
            "\u001b[?25hCollecting python-multipart\n",
            "  Downloading https://files.pythonhosted.org/packages/46/40/a933ac570bf7aad12a298fc53458115cc74053474a72fbb8201d7dc06d3d/python-multipart-0.0.5.tar.gz\n",
            "Collecting soundfile\n",
            "  Downloading https://files.pythonhosted.org/packages/eb/f2/3cbbbf3b96fb9fa91582c438b574cff3f45b29c772f94c400e2c99ef5db9/SoundFile-0.10.3.post1-py2.py3-none-any.whl\n",
            "Requirement already satisfied: six in /usr/local/lib/python3.6/dist-packages (from h5py>=2.6->ludwig==0.2.1) (1.15.0)\n",
            "Requirement already satisfied: python-dateutil>=2.1 in /usr/local/lib/python3.6/dist-packages (from matplotlib>=3.0->ludwig==0.2.1) (2.8.1)\n",
            "Requirement already satisfied: kiwisolver>=1.0.1 in /usr/local/lib/python3.6/dist-packages (from matplotlib>=3.0->ludwig==0.2.1) (1.2.0)\n",
            "Requirement already satisfied: cycler>=0.10 in /usr/local/lib/python3.6/dist-packages (from matplotlib>=3.0->ludwig==0.2.1) (0.10.0)\n",
            "Requirement already satisfied: pyparsing!=2.0.4,!=2.1.2,!=2.1.6,>=2.0.1 in /usr/local/lib/python3.6/dist-packages (from matplotlib>=3.0->ludwig==0.2.1) (2.4.7)\n",
            "Requirement already satisfied: pytz>=2017.2 in /usr/local/lib/python3.6/dist-packages (from pandas>=0.19->ludwig==0.2.1) (2018.9)\n",
            "Requirement already satisfied: joblib>=0.11 in /usr/local/lib/python3.6/dist-packages (from scikit-learn->ludwig==0.2.1) (0.16.0)\n",
            "Requirement already satisfied: dask[array]>=1.0.0 in /usr/local/lib/python3.6/dist-packages (from scikit-image==0.14.2->ludwig==0.2.1) (2.12.0)\n",
            "Requirement already satisfied: networkx>=1.8 in /usr/local/lib/python3.6/dist-packages (from scikit-image==0.14.2->ludwig==0.2.1) (2.5)\n",
            "Requirement already satisfied: cloudpickle>=0.2.1 in /usr/local/lib/python3.6/dist-packages (from scikit-image==0.14.2->ludwig==0.2.1) (1.3.0)\n",
            "Requirement already satisfied: PyWavelets>=0.4.0 in /usr/local/lib/python3.6/dist-packages (from scikit-image==0.14.2->ludwig==0.2.1) (1.1.1)\n",
            "Requirement already satisfied: pillow>=4.3.0 in /usr/local/lib/python3.6/dist-packages (from scikit-image==0.14.2->ludwig==0.2.1) (7.0.0)\n",
            "Requirement already satisfied: requests<3.0.0,>=2.13.0 in /usr/local/lib/python3.6/dist-packages (from spacy>=2.1->ludwig==0.2.1) (2.23.0)\n",
            "Requirement already satisfied: blis<0.5.0,>=0.4.0 in /usr/local/lib/python3.6/dist-packages (from spacy>=2.1->ludwig==0.2.1) (0.4.1)\n",
            "Requirement already satisfied: preshed<3.1.0,>=3.0.2 in /usr/local/lib/python3.6/dist-packages (from spacy>=2.1->ludwig==0.2.1) (3.0.2)\n",
            "Requirement already satisfied: murmurhash<1.1.0,>=0.28.0 in /usr/local/lib/python3.6/dist-packages (from spacy>=2.1->ludwig==0.2.1) (1.0.2)\n",
            "Requirement already satisfied: catalogue<1.1.0,>=0.0.7 in /usr/local/lib/python3.6/dist-packages (from spacy>=2.1->ludwig==0.2.1) (1.0.0)\n",
            "Requirement already satisfied: plac<1.2.0,>=0.9.6 in /usr/local/lib/python3.6/dist-packages (from spacy>=2.1->ludwig==0.2.1) (1.1.3)\n",
            "Requirement already satisfied: setuptools in /usr/local/lib/python3.6/dist-packages (from spacy>=2.1->ludwig==0.2.1) (50.3.0)\n",
            "Requirement already satisfied: cymem<2.1.0,>=2.0.2 in /usr/local/lib/python3.6/dist-packages (from spacy>=2.1->ludwig==0.2.1) (2.0.3)\n",
            "Requirement already satisfied: wasabi<1.1.0,>=0.4.0 in /usr/local/lib/python3.6/dist-packages (from spacy>=2.1->ludwig==0.2.1) (0.8.0)\n",
            "Requirement already satisfied: srsly<1.1.0,>=1.0.2 in /usr/local/lib/python3.6/dist-packages (from spacy>=2.1->ludwig==0.2.1) (1.0.2)\n",
            "Requirement already satisfied: thinc==7.4.0 in /usr/local/lib/python3.6/dist-packages (from spacy>=2.1->ludwig==0.2.1) (7.4.0)\n",
            "Requirement already satisfied: google-pasta>=0.1.6 in /usr/local/lib/python3.6/dist-packages (from tensorflow==1.14.0->ludwig==0.2.1) (0.2.0)\n",
            "Requirement already satisfied: protobuf>=3.6.1 in /usr/local/lib/python3.6/dist-packages (from tensorflow==1.14.0->ludwig==0.2.1) (3.12.4)\n",
            "Requirement already satisfied: gast>=0.2.0 in /usr/local/lib/python3.6/dist-packages (from tensorflow==1.14.0->ludwig==0.2.1) (0.3.3)\n",
            "Requirement already satisfied: wheel>=0.26 in /usr/local/lib/python3.6/dist-packages (from tensorflow==1.14.0->ludwig==0.2.1) (0.35.1)\n",
            "Collecting keras-applications>=1.0.6\n",
            "\u001b[?25l  Downloading https://files.pythonhosted.org/packages/71/e3/19762fdfc62877ae9102edf6342d71b28fbfd9dea3d2f96a882ce099b03f/Keras_Applications-1.0.8-py3-none-any.whl (50kB)\n",
            "\u001b[K     |████████████████████████████████| 51kB 6.8MB/s \n",
            "\u001b[?25hRequirement already satisfied: astor>=0.6.0 in /usr/local/lib/python3.6/dist-packages (from tensorflow==1.14.0->ludwig==0.2.1) (0.8.1)\n",
            "Requirement already satisfied: absl-py>=0.7.0 in /usr/local/lib/python3.6/dist-packages (from tensorflow==1.14.0->ludwig==0.2.1) (0.10.0)\n",
            "Requirement already satisfied: keras-preprocessing>=1.0.5 in /usr/local/lib/python3.6/dist-packages (from tensorflow==1.14.0->ludwig==0.2.1) (1.1.2)\n",
            "Collecting tensorboard<1.15.0,>=1.14.0\n",
            "\u001b[?25l  Downloading https://files.pythonhosted.org/packages/91/2d/2ed263449a078cd9c8a9ba50ebd50123adf1f8cfbea1492f9084169b89d9/tensorboard-1.14.0-py3-none-any.whl (3.1MB)\n",
            "\u001b[K     |████████████████████████████████| 3.2MB 45.7MB/s \n",
            "\u001b[?25hCollecting tensorflow-estimator<1.15.0rc0,>=1.14.0rc0\n",
            "\u001b[?25l  Downloading https://files.pythonhosted.org/packages/3c/d5/21860a5b11caf0678fbc8319341b0ae21a07156911132e0e71bffed0510d/tensorflow_estimator-1.14.0-py2.py3-none-any.whl (488kB)\n",
            "\u001b[K     |████████████████████████████████| 491kB 42.0MB/s \n",
            "\u001b[?25hRequirement already satisfied: termcolor>=1.1.0 in /usr/local/lib/python3.6/dist-packages (from tensorflow==1.14.0->ludwig==0.2.1) (1.1.0)\n",
            "Requirement already satisfied: grpcio>=1.8.6 in /usr/local/lib/python3.6/dist-packages (from tensorflow==1.14.0->ludwig==0.2.1) (1.32.0)\n",
            "Requirement already satisfied: wrapt>=1.11.1 in /usr/local/lib/python3.6/dist-packages (from tensorflow==1.14.0->ludwig==0.2.1) (1.12.1)\n",
            "Collecting starlette==0.13.6\n",
            "\u001b[?25l  Downloading https://files.pythonhosted.org/packages/c5/a4/c9e228d7d47044ce4c83ba002f28ff479e542455f0499198a3f77c94f564/starlette-0.13.6-py3-none-any.whl (59kB)\n",
            "\u001b[K     |████████████████████████████████| 61kB 7.6MB/s \n",
            "\u001b[?25hRequirement already satisfied: dataclasses>=0.6; python_version < \"3.7\" in /usr/local/lib/python3.6/dist-packages (from pydantic==0.30.0->ludwig==0.2.1) (0.7)\n",
            "Collecting h11>=0.8\n",
            "\u001b[?25l  Downloading https://files.pythonhosted.org/packages/b2/79/9c5f5cd738ec2a9b26453b3093915c0999f24454e2773921025c03b5509e/h11-0.11.0-py2.py3-none-any.whl (54kB)\n",
            "\u001b[K     |████████████████████████████████| 61kB 8.2MB/s \n",
            "\u001b[?25hRequirement already satisfied: click==7.* in /usr/local/lib/python3.6/dist-packages (from uvicorn->ludwig==0.2.1) (7.1.2)\n",
            "Requirement already satisfied: typing-extensions; python_version < \"3.8\" in /usr/local/lib/python3.6/dist-packages (from uvicorn->ludwig==0.2.1) (3.7.4.3)\n",
            "Requirement already satisfied: cffi>=1.0 in /usr/local/lib/python3.6/dist-packages (from soundfile->ludwig==0.2.1) (1.14.3)\n",
            "Requirement already satisfied: toolz>=0.7.3; extra == \"array\" in /usr/local/lib/python3.6/dist-packages (from dask[array]>=1.0.0->scikit-image==0.14.2->ludwig==0.2.1) (0.11.1)\n",
            "Requirement already satisfied: decorator>=4.3.0 in /usr/local/lib/python3.6/dist-packages (from networkx>=1.8->scikit-image==0.14.2->ludwig==0.2.1) (4.4.2)\n",
            "Requirement already satisfied: urllib3!=1.25.0,!=1.25.1,<1.26,>=1.21.1 in /usr/local/lib/python3.6/dist-packages (from requests<3.0.0,>=2.13.0->spacy>=2.1->ludwig==0.2.1) (1.24.3)\n",
            "Requirement already satisfied: certifi>=2017.4.17 in /usr/local/lib/python3.6/dist-packages (from requests<3.0.0,>=2.13.0->spacy>=2.1->ludwig==0.2.1) (2020.6.20)\n",
            "Requirement already satisfied: idna<3,>=2.5 in /usr/local/lib/python3.6/dist-packages (from requests<3.0.0,>=2.13.0->spacy>=2.1->ludwig==0.2.1) (2.10)\n",
            "Requirement already satisfied: chardet<4,>=3.0.2 in /usr/local/lib/python3.6/dist-packages (from requests<3.0.0,>=2.13.0->spacy>=2.1->ludwig==0.2.1) (3.0.4)\n",
            "Requirement already satisfied: importlib-metadata>=0.20; python_version < \"3.8\" in /usr/local/lib/python3.6/dist-packages (from catalogue<1.1.0,>=0.0.7->spacy>=2.1->ludwig==0.2.1) (2.0.0)\n",
            "Requirement already satisfied: werkzeug>=0.11.15 in /usr/local/lib/python3.6/dist-packages (from tensorboard<1.15.0,>=1.14.0->tensorflow==1.14.0->ludwig==0.2.1) (1.0.1)\n",
            "Requirement already satisfied: markdown>=2.6.8 in /usr/local/lib/python3.6/dist-packages (from tensorboard<1.15.0,>=1.14.0->tensorflow==1.14.0->ludwig==0.2.1) (3.2.2)\n",
            "Requirement already satisfied: pycparser in /usr/local/lib/python3.6/dist-packages (from cffi>=1.0->soundfile->ludwig==0.2.1) (2.20)\n",
            "Requirement already satisfied: zipp>=0.5 in /usr/local/lib/python3.6/dist-packages (from importlib-metadata>=0.20; python_version < \"3.8\"->catalogue<1.1.0,>=0.0.7->spacy>=2.1->ludwig==0.2.1) (3.2.0)\n",
            "Building wheels for collected packages: ludwig, python-multipart\n",
            "  Building wheel for ludwig (setup.py) ... \u001b[?25l\u001b[?25hdone\n",
            "  Created wheel for ludwig: filename=ludwig-0.2.1-cp36-none-any.whl size=223496 sha256=756bd0969cd26a78d4d876c093239c9a685a9fca9025e181802541383823cc90\n",
            "  Stored in directory: /tmp/pip-ephem-wheel-cache-ct89a2z9/wheels/51/ea/44/02151171a7d0866a695848f9e0f35b061d9326d370c131f659\n",
            "  Building wheel for python-multipart (setup.py) ... \u001b[?25l\u001b[?25hdone\n",
            "  Created wheel for python-multipart: filename=python_multipart-0.0.5-cp36-none-any.whl size=31671 sha256=f16dff732bf2008ce0482155dbf66589898a41b726660af93b39efdeb5b1d440\n",
            "  Stored in directory: /root/.cache/pip/wheels/f0/e6/66/14a866a3cbd6a0cabfbef91f7edf40aa03595ef6c88d6d1be4\n",
            "Successfully built ludwig python-multipart\n",
            "\u001b[31mERROR: albumentations 0.1.12 has requirement imgaug<0.2.7,>=0.2.5, but you'll have imgaug 0.2.9 which is incompatible.\u001b[0m\n",
            "\u001b[31mERROR: fastapi 0.61.1 has requirement pydantic<2.0.0,>=1.0.0, but you'll have pydantic 0.30 which is incompatible.\u001b[0m\n",
            "Installing collected packages: scikit-image, keras-applications, tensorboard, tensorflow-estimator, tensorflow, pydantic, starlette, fastapi, h11, uvicorn, python-multipart, soundfile, ludwig\n",
            "  Found existing installation: scikit-image 0.16.2\n",
            "    Uninstalling scikit-image-0.16.2:\n",
            "      Successfully uninstalled scikit-image-0.16.2\n",
            "  Found existing installation: tensorboard 2.3.0\n",
            "    Uninstalling tensorboard-2.3.0:\n",
            "      Successfully uninstalled tensorboard-2.3.0\n",
            "  Found existing installation: tensorflow-estimator 2.3.0\n",
            "    Uninstalling tensorflow-estimator-2.3.0:\n",
            "      Successfully uninstalled tensorflow-estimator-2.3.0\n",
            "  Found existing installation: tensorflow 2.3.0\n",
            "    Uninstalling tensorflow-2.3.0:\n",
            "      Successfully uninstalled tensorflow-2.3.0\n",
            "Successfully installed fastapi-0.61.1 h11-0.11.0 keras-applications-1.0.8 ludwig-0.2.1 pydantic-0.30 python-multipart-0.0.5 scikit-image-0.14.2 soundfile-0.10.3.post1 starlette-0.13.6 tensorboard-1.14.0 tensorflow-1.14.0 tensorflow-estimator-1.14.0 uvicorn-0.12.2\n",
            "Collecting gmpy\n",
            "\u001b[?25l  Downloading https://files.pythonhosted.org/packages/26/37/2184c13cee81e1dbeaebbb13570195247e73ab2138a3db0c9d2c5347e372/gmpy-1.17.zip (147kB)\n",
            "\u001b[K     |████████████████████████████████| 153kB 3.0MB/s \n",
            "\u001b[?25hBuilding wheels for collected packages: gmpy\n",
            "  Building wheel for gmpy (setup.py) ... \u001b[?25l\u001b[?25hdone\n",
            "  Created wheel for gmpy: filename=gmpy-1.17-cp36-cp36m-linux_x86_64.whl size=189649 sha256=a0a8467b66f3ec8da86f99f5b3b22e3b1d853f93f6f5d39b1122f99e5f563ae7\n",
            "  Stored in directory: /root/.cache/pip/wheels/0e/71/61/afbbb4cae8a7a6d5230702197bd4cb8ae0a7f767df0e08f28f\n",
            "Successfully built gmpy\n",
            "Installing collected packages: gmpy\n",
            "Successfully installed gmpy-1.17\n",
            "Reading package lists... Done\n",
            "Building dependency tree       \n",
            "Reading state information... Done\n",
            "0 upgraded, 0 newly installed, 0 to remove and 21 not upgraded.\n",
            "Collecting gmpy\n",
            "  Using cached https://files.pythonhosted.org/packages/26/37/2184c13cee81e1dbeaebbb13570195247e73ab2138a3db0c9d2c5347e372/gmpy-1.17.zip\n",
            "Building wheels for collected packages: gmpy\n",
            "  Building wheel for gmpy (setup.py) ... \u001b[?25l\u001b[?25hdone\n",
            "  Created wheel for gmpy: filename=gmpy-1.17-cp27-cp27mu-linux_x86_64.whl size=106057 sha256=ba9ab557e18761333ee008a5ab5eff5c284c03ac1e46a97efd59f9f5c352c073\n",
            "  Stored in directory: /root/.cache/pip/wheels/0e/71/61/afbbb4cae8a7a6d5230702197bd4cb8ae0a7f767df0e08f28f\n",
            "Successfully built gmpy\n",
            "Installing collected packages: gmpy\n",
            "Successfully installed gmpy-1.17\n"
          ],
          "name": "stdout"
        }
      ]
    },
    {
      "cell_type": "code",
      "metadata": {
        "id": "_17fyVXQJG1g"
      },
      "source": [
        "  #from Crypto import Random\n",
        "from Crypto.Util.number import *\n",
        "import Crypto\n",
        "import time\n",
        "import gmpy\n",
        "import sys"
      ],
      "execution_count": null,
      "outputs": []
    },
    {
      "cell_type": "code",
      "metadata": {
        "id": "5U8uopFFJm02",
        "outputId": "0c1d3395-151e-4919-c875-56c51e34d3e9",
        "colab": {
          "base_uri": "https://localhost:8080/",
          "height": 35
        }
      },
      "source": [
        "bits= int(input(\"Enter no. of bits \"))\n",
        "msg = \"This is The message to be encrypted\""
      ],
      "execution_count": null,
      "outputs": [
        {
          "output_type": "stream",
          "text": [
            "Enter no. of bits 256\n"
          ],
          "name": "stdout"
        }
      ]
    },
    {
      "cell_type": "code",
      "metadata": {
        "id": "tes6AevUOf9q",
        "outputId": "138ed0f3-5d93-4863-d1dd-af2edd0c8b2a",
        "colab": {
          "base_uri": "https://localhost:8080/",
          "height": 219
        }
      },
      "source": [
        "start_key = time.time()\n",
        "p = Crypto.Util.number.getPrime(bits, randfunc=None)\n",
        "print(\"p = \"+str(p)+\"\\n\\n\")\n",
        "\n",
        "# q = Crypto.Util.number.getPrime(bits, randfunc=Crypto.Random.get_random_bytes)\n",
        "q = Crypto.Util.number.getPrime(bits, randfunc=None)\n",
        "\n",
        "print(\"q = \"+str(q)+\"\\n\\n\")\n",
        "\n",
        "n = p*q\n",
        "PHI=(p-1)*(q-1)\n",
        "e = 65537\n",
        "d = (gmpy.invert(e, PHI))\n",
        "end_key = time.time() \n",
        "print(\"d = \"+str(d)+\"\\n\\n\")\n",
        "print(\"Key Generation in microseconds : \" + str((end_key - start_key)*1000))"
      ],
      "execution_count": null,
      "outputs": [
        {
          "output_type": "stream",
          "text": [
            "p = 73343700629173544038979910301443549469677558732064439078927293507084956195581\n",
            "\n",
            "\n",
            "q = 90392248082023308494234825509182763476543709136729170280433113479421647046417\n",
            "\n",
            "\n",
            "d = 5349323906128901293649352305366958358102819526284934450198069048270508884161185944778105989047121805704716224580501802314670494900681571287226310742940673\n",
            "\n",
            "\n",
            "Key Generation in microseconds : 62.531471252441406\n"
          ],
          "name": "stdout"
        }
      ]
    },
    {
      "cell_type": "code",
      "metadata": {
        "id": "sq2ZwV0UOmkJ",
        "outputId": "b5635d25-c251-4808-8ce6-1c7dc2e9a6ca",
        "colab": {
          "base_uri": "https://localhost:8080/",
          "height": 74
        }
      },
      "source": [
        "start_enc = time.time()\n",
        "cry = []\n",
        "for temp in msg:\n",
        "    for i in temp:\n",
        "        cr = pow(ord(i),e,n)\n",
        "        cry.append(cr)\n",
        "\n",
        "end_enc = time.time()\n",
        "print(\"cipher text: \",cry)\n",
        "print(\"Encryption in microseconds : \" + str((end_enc - start_enc)*1000))\n",
        "\n"
      ],
      "execution_count": null,
      "outputs": [
        {
          "output_type": "stream",
          "text": [
            "cipher text:  [3457110048973576288672449613320542665532606531316485514598588261217339413545933390089460907118273335044221914204423730680164799545328445303216834185805672, 5138436446945702898319545958755345838548574085233252857117321977587672440269443503800589144244971552360440799771416958944601093401370627309406908847458092, 2414373280514622579669224928472069420436820791899458555864683317211429226331220657389917379427789706097160720335387289675280339866855862035791796337347403, 4569130413383783577371281014289774300255024055911824940480140979853829975063537321191839303615193877475782884094380208601797545233384153923220967545387264, 3723236761444203634764198848340302388211968641854217092540144437314545465908347107649308711829517268773460164890047202537437779698104894962134311206955258, 2414373280514622579669224928472069420436820791899458555864683317211429226331220657389917379427789706097160720335387289675280339866855862035791796337347403, 4569130413383783577371281014289774300255024055911824940480140979853829975063537321191839303615193877475782884094380208601797545233384153923220967545387264, 3723236761444203634764198848340302388211968641854217092540144437314545465908347107649308711829517268773460164890047202537437779698104894962134311206955258, 3457110048973576288672449613320542665532606531316485514598588261217339413545933390089460907118273335044221914204423730680164799545328445303216834185805672, 5138436446945702898319545958755345838548574085233252857117321977587672440269443503800589144244971552360440799771416958944601093401370627309406908847458092, 4690626982597754570123875129602071786006228683744625671530123222332656834240705870118513956945938878067516663778534840017820447663006400129435745549941656, 3723236761444203634764198848340302388211968641854217092540144437314545465908347107649308711829517268773460164890047202537437779698104894962134311206955258, 2353931387223307907825146799514842665804137073501559099684661128927035421870561960775162401787521701697662942620359202180143386435126109357214724237251134, 4690626982597754570123875129602071786006228683744625671530123222332656834240705870118513956945938878067516663778534840017820447663006400129435745549941656, 4569130413383783577371281014289774300255024055911824940480140979853829975063537321191839303615193877475782884094380208601797545233384153923220967545387264, 4569130413383783577371281014289774300255024055911824940480140979853829975063537321191839303615193877475782884094380208601797545233384153923220967545387264, 4373684288800412267013526867405916545990592685421352233636655657913923591163466461746287146511562572017279103200701365893184041085356335411443847894181826, 4127501906227701328622688988051649880976424861696613883638070523531555730098883502935901691828203769395631913637167786372089389508903212873989019002563963, 4690626982597754570123875129602071786006228683744625671530123222332656834240705870118513956945938878067516663778534840017820447663006400129435745549941656, 3723236761444203634764198848340302388211968641854217092540144437314545465908347107649308711829517268773460164890047202537437779698104894962134311206955258, 52478491055011528924469448153814297784423882342570052704356065152237077056743551714196265748029962960029858095157788437656290131099339292252278434657357, 6190428200736775398742052846568902903432824638371938451014284230044932357186458051923851258583280107312399989415110072213321332964591143026121589021832276, 3723236761444203634764198848340302388211968641854217092540144437314545465908347107649308711829517268773460164890047202537437779698104894962134311206955258, 3666439833227229710796791570821598421896881524738388025554637363053703345628181788037443782042572619542337249263588983715856706793353325634373010775534721, 4690626982597754570123875129602071786006228683744625671530123222332656834240705870118513956945938878067516663778534840017820447663006400129435745549941656, 3723236761444203634764198848340302388211968641854217092540144437314545465908347107649308711829517268773460164890047202537437779698104894962134311206955258, 4690626982597754570123875129602071786006228683744625671530123222332656834240705870118513956945938878067516663778534840017820447663006400129435745549941656, 6102143036255627512254784738051919329068925515399577879562011360043034118744528975667332356518197927071947133374441390991174099864538623968519656416639583, 5392200512734886831805165008843839057352223981611246790117968841850317799819868837861809177390851604046657878950181261920438476860101036620580315204416287, 246084918438936749011918000377780612641446243045020522419083739700414803775563335507380388946903662288963888242985838322182734572378187582458280923161802, 691271448285121102816001454028934430499883104202430182856482488126216144975702401765273789472742133930428073499621236409007002175879037141182803126381949, 5700557111733528192850234911865442955030085687257342047687946538163882294457025377267673341280085505191377376939480723018948285678832356836068508619203111, 52478491055011528924469448153814297784423882342570052704356065152237077056743551714196265748029962960029858095157788437656290131099339292252278434657357, 4690626982597754570123875129602071786006228683744625671530123222332656834240705870118513956945938878067516663778534840017820447663006400129435745549941656, 141701345277044573385529104489839274523215800026026990580850893070662027378261582527954389143636790401689073037881384044330324723162720576549746218395748]\n",
            "Encryption in microseconds : 0.8251667022705078\n"
          ],
          "name": "stdout"
        }
      ]
    },
    {
      "cell_type": "code",
      "metadata": {
        "id": "W_HcOOuaPoGu",
        "outputId": "0cce0616-350b-4a8e-e873-f0b1954a48da",
        "colab": {
          "base_uri": "https://localhost:8080/",
          "height": 54
        }
      },
      "source": [
        "start_dec = time.time()\n",
        "pl=\"\"\n",
        "for i in cry:\n",
        "    pn = pow(i,d,n)\n",
        "    pl += chr(pn)\n",
        "print(\"This is the Decrypted plain text: \",pl)\n",
        "end_dec = time.time()\n",
        "print(\"Decryption in microseconds : \" + str((end_dec - start_dec)*1000))\n"
      ],
      "execution_count": null,
      "outputs": [
        {
          "output_type": "stream",
          "text": [
            "plain text:  This is The message to be encrypted\n",
            "Decryption in microseconds : 5.353212356567383\n"
          ],
          "name": "stdout"
        }
      ]
    },
    {
      "cell_type": "code",
      "metadata": {
        "id": "653n2URuPotN"
      },
      "source": [
        ""
      ],
      "execution_count": null,
      "outputs": []
    }
  ]
}