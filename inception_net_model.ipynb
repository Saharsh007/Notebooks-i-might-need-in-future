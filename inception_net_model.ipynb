{
  "nbformat": 4,
  "nbformat_minor": 0,
  "metadata": {
    "colab": {
      "name": "DWDM project _inception.ipynb",
      "provenance": [],
      "collapsed_sections": []
    },
    "kernelspec": {
      "name": "python3",
      "display_name": "Python 3"
    },
    "accelerator": "GPU"
  },
  "cells": [
    {
      "cell_type": "code",
      "metadata": {
        "id": "lbFmQdsZs5eW"
      },
      "source": [
        "# Import all the necessary files!\n",
        "import os\n",
        "import tensorflow as tf\n",
        "from tensorflow.keras import layers\n",
        "from tensorflow.keras import Model\n",
        "import zipfile\n",
        "from tensorflow.keras.preprocessing.image import ImageDataGenerator\n"
      ],
      "execution_count": null,
      "outputs": []
    },
    {
      "cell_type": "code",
      "metadata": {
        "id": "_555nQ-CxE3t",
        "outputId": "eb0e2f5c-7966-4bb1-801d-708d1c0fef92",
        "colab": {
          "base_uri": "https://localhost:8080/"
        }
      },
      "source": [
        "from google.colab import drive\n",
        "drive.mount('/content/gdrive', force_remount=True)\n",
        "\n",
        "train_dir = os.path.join('/content/gdrive/My Drive/dataset/mycopy/train_data')\n",
        "val_dir = os.path.join('/content/gdrive/My Drive/dataset/mycopy/test_data')\n",
        "\n",
        "train_fnames = os.listdir(train_dir)\n",
        "validation_fnames = os.listdir(val_dir)\n",
        "print(train_fnames,validation_fnames)"
      ],
      "execution_count": null,
      "outputs": [
        {
          "output_type": "stream",
          "text": [
            "Mounted at /content/gdrive\n",
            "['2', '3', '1'] ['2', '3', '1']\n"
          ],
          "name": "stdout"
        }
      ]
    },
    {
      "cell_type": "code",
      "metadata": {
        "id": "k0eZgtX0xHgp",
        "outputId": "2f376efb-29d8-4996-a953-16b339b6099c",
        "colab": {
          "base_uri": "https://localhost:8080/"
        }
      },
      "source": [
        "for people in train_fnames:\n",
        "  namess = os.path.join(train_dir+\"/\" + people)\n",
        "  for items in os.listdir(namess):\n",
        "    print(people + \" \"  + items)"
      ],
      "execution_count": null,
      "outputs": [
        {
          "output_type": "stream",
          "text": [
            "2 17.jpg\n",
            "2 1.jpg\n",
            "2 2.jpg\n",
            "2 4.jpg\n",
            "2 9.jpg\n",
            "2 19.jpg\n",
            "2 20.jpg\n",
            "2 14.jpg\n",
            "2 13.jpg\n",
            "2 3.jpg\n",
            "2 12.jpg\n",
            "2 8.jpg\n",
            "2 15.jpg\n",
            "2 5.jpg\n",
            "2 11.jpg\n",
            "2 10.jpg\n",
            "2 18.jpg\n",
            "2 7.jpg\n",
            "2 6.jpg\n",
            "2 16.jpg\n",
            "3 2.jpg\n",
            "3 11.jpg\n",
            "3 8.jpg\n",
            "3 10.jpg\n",
            "3 5.jpg\n",
            "3 7.jpg\n",
            "3 13.jpg\n",
            "3 14.jpg\n",
            "3 15.jpg\n",
            "3 17.jpg\n",
            "3 18.jpg\n",
            "3 20.jpg\n",
            "3 16.jpg\n",
            "3 19.jpg\n",
            "3 12.jpg\n",
            "3 9.jpg\n",
            "3 3.jpg\n",
            "3 1.jpg\n",
            "3 6.jpg\n",
            "3 4.jpg\n",
            "1 7.jpg\n",
            "1 11.jpg\n",
            "1 14.jpg\n",
            "1 12.jpg\n",
            "1 6.jpg\n",
            "1 5.jpg\n",
            "1 4.jpg\n",
            "1 3.jpg\n",
            "1 2.jpg\n",
            "1 1.jpg\n",
            "1 8.jpg\n",
            "1 9.jpg\n",
            "1 13.jpg\n",
            "1 19.jpg\n",
            "1 15.jpg\n",
            "1 16.jpg\n",
            "1 18.jpg\n",
            "1 10.jpg\n",
            "1 17.jpg\n",
            "1 20.jpg\n"
          ],
          "name": "stdout"
        }
      ]
    },
    {
      "cell_type": "code",
      "metadata": {
        "id": "GE3ofj-2ZRuz",
        "outputId": "3e8e7b31-b400-4490-8644-ff1962fec6e5",
        "colab": {
          "base_uri": "https://localhost:8080/"
        }
      },
      "source": [
        "# Download the inception v3 weights\n",
        "!wget --no-check-certificate \\\n",
        "    https://storage.googleapis.com/mledu-datasets/inception_v3_weights_tf_dim_ordering_tf_kernels_notop.h5 \\\n",
        "    -O /tmp/inception_v3_weights_tf_dim_ordering_tf_kernels_notop.h5"
      ],
      "execution_count": null,
      "outputs": [
        {
          "output_type": "stream",
          "text": [
            "--2020-11-03 10:48:44--  https://storage.googleapis.com/mledu-datasets/inception_v3_weights_tf_dim_ordering_tf_kernels_notop.h5\n",
            "Resolving storage.googleapis.com (storage.googleapis.com)... 172.217.2.112, 142.250.73.240, 172.253.122.128, ...\n",
            "Connecting to storage.googleapis.com (storage.googleapis.com)|172.217.2.112|:443... connected.\n",
            "HTTP request sent, awaiting response... 200 OK\n",
            "Length: 87910968 (84M) [application/x-hdf]\n",
            "Saving to: ‘/tmp/inception_v3_weights_tf_dim_ordering_tf_kernels_notop.h5’\n",
            "\n",
            "/tmp/inception_v3_w 100%[===================>]  83.84M  64.4MB/s    in 1.3s    \n",
            "\n",
            "2020-11-03 10:48:45 (64.4 MB/s) - ‘/tmp/inception_v3_weights_tf_dim_ordering_tf_kernels_notop.h5’ saved [87910968/87910968]\n",
            "\n"
          ],
          "name": "stdout"
        }
      ]
    },
    {
      "cell_type": "code",
      "metadata": {
        "id": "q3uQkAVdZYWZ"
      },
      "source": [
        "# Import the inception model  \n",
        "from tensorflow.keras.applications.inception_v3 import InceptionV3\n",
        "\n",
        "# Create an instance of the inception model from the local pre-trained weights\n",
        "local_weights_file = '/tmp/inception_v3_weights_tf_dim_ordering_tf_kernels_notop.h5'\n"
      ],
      "execution_count": null,
      "outputs": []
    },
    {
      "cell_type": "code",
      "metadata": {
        "id": "Q-29AmBaZbdm"
      },
      "source": [
        "\n",
        "pre_trained_model = InceptionV3(input_shape = (150, 150, 3), \n",
        "                                include_top = False, \n",
        "                                weights = None)\n",
        "\n",
        "\n",
        "pre_trained_model.load_weights(local_weights_file)\n",
        "# Make all the layers in the pre-trained model non-trainable\n",
        "for layer in pre_trained_model.layers:\n",
        "  layer.trainable = False\n",
        "  \n",
        "# Print the model summary\n",
        "# pre_trained_model.summary()\n",
        "\n",
        "\n",
        "last_layer = pre_trained_model.get_layer('mixed7')\n",
        "print('last layer output shape: ', last_layer.output_shape)\n",
        "last_output = last_layer.output\n",
        "\n",
        "# Expected Output:\n",
        "# ('last layer output shape: ', (None, 7, 7, 768))\n"
      ],
      "execution_count": null,
      "outputs": []
    },
    {
      "cell_type": "code",
      "metadata": {
        "id": "1xJZ5glPPCRz"
      },
      "source": [
        "\n",
        "\n"
      ],
      "execution_count": null,
      "outputs": []
    },
    {
      "cell_type": "markdown",
      "metadata": {
        "id": "il_ClAYXaSsi"
      },
      "source": [
        "For now lets take mixed7 as output and check how good the embeddings are\n",
        "\n",
        "> Indented block\n",
        "\n"
      ]
    },
    {
      "cell_type": "code",
      "metadata": {
        "id": "CFsUlwdfs_wg",
        "outputId": "bb02b001-7998-4568-fe54-5fbb2cc2e690",
        "colab": {
          "base_uri": "https://localhost:8080/"
        }
      },
      "source": [
        "\n"
      ],
      "execution_count": null,
      "outputs": [
        {
          "output_type": "stream",
          "text": [
            "last layer output shape:  (None, 7, 7, 768)\n"
          ],
          "name": "stdout"
        }
      ]
    },
    {
      "cell_type": "code",
      "metadata": {
        "id": "-bsWZWp5oMq9"
      },
      "source": [
        "# Define a Callback class that stops training once accuracy reaches 95.9%\n",
        "class myCallback(tf.keras.callbacks.Callback):\n",
        "  def on_epoch_end(self, epoch, logs={}):\n",
        "    if(logs.get('acc')>0.98):\n",
        "      print(\"\\nReached 99% accuracy so cancelling training!\")\n",
        "      self.model.stop_training = True\n",
        "\n",
        "      "
      ],
      "execution_count": null,
      "outputs": []
    },
    {
      "cell_type": "markdown",
      "metadata": {
        "id": "xAFpo0DpyB6X"
      },
      "source": [
        "### Model Architecture"
      ]
    },
    {
      "cell_type": "code",
      "metadata": {
        "id": "pBQy40zCyHjW"
      },
      "source": [
        "# Hyper parameter\n",
        "learnr = 0.00001  #learning rate\n",
        "hu = 256    #no of hidden units in last layer"
      ],
      "execution_count": null,
      "outputs": []
    },
    {
      "cell_type": "code",
      "metadata": {
        "id": "BMXb913pbvFg",
        "outputId": "f42f0d9b-732e-49b5-afa6-d904e7d0b059",
        "colab": {
          "base_uri": "https://localhost:8080/",
          "height": 231
        }
      },
      "source": [
        "from tensorflow.keras.optimizers import Adam\n",
        "\n",
        "# Flatten the output layer to 1 dimension\n",
        "x = layers.Flatten()(last_output)\n",
        "# Add a fully connected layer with hu hidden units and ReLU activation\n",
        "x = layers.Dense(hu, activation='relu')(x)\n",
        "# Add a dropout rate of 0.2\n",
        "# x = layers.Dropout(0.2)(x)                  \n",
        "# Add a final sigmoid layer for classification\n",
        "x = layers.Dense  (3, activation='softmax')(x)           \n",
        "\n",
        "model = Model( pre_trained_model.input, x) \n",
        "\n",
        "model.compile(optimizer = Adam(lr=learnr), \n",
        "              loss = 'categorical_crossentropy', \n",
        "              metrics = ['acc'])\n",
        "\n",
        "# model.summary()\n",
        "\n",
        "# Expected output will be large. Last few lines should be:\n",
        "\n",
        "# mixed7 (Concatenate)            (None, 7, 7, 768)    0           activation_248[0][0]             \n",
        "#                                                                  activation_251[0][0]             \n",
        "#                                                                  activation_256[0][0]             \n",
        "#                                                                  activation_257[0][0]             \n",
        "# __________________________________________________________________________________________________\n",
        "# flatten_4 (Flatten)             (None, 37632)        0           mixed7[0][0]                     \n",
        "# __________________________________________________________________________________________________\n",
        "# dense_8 (Dense)                 (None, 1024)         38536192    flatten_4[0][0]                  \n",
        "# __________________________________________________________________________________________________\n",
        "# dropout_4 (Dropout)             (None, 1024)         0           dense_8[0][0]                    \n",
        "# __________________________________________________________________________________________________\n",
        "# dense_9 (Dense)                 (None, 1)            1025        dropout_4[0][0]                  \n",
        "# ==================================================================================================\n",
        "# Total params: 47,512,481\n",
        "# Trainable params: 38,537,217\n",
        "# Non-trainable params: 8,975,264\n"
      ],
      "execution_count": null,
      "outputs": [
        {
          "output_type": "error",
          "ename": "NameError",
          "evalue": "ignored",
          "traceback": [
            "\u001b[0;31m---------------------------------------------------------------------------\u001b[0m",
            "\u001b[0;31mNameError\u001b[0m                                 Traceback (most recent call last)",
            "\u001b[0;32m<ipython-input-2-73f04608626b>\u001b[0m in \u001b[0;36m<module>\u001b[0;34m()\u001b[0m\n\u001b[1;32m      2\u001b[0m \u001b[0;34m\u001b[0m\u001b[0m\n\u001b[1;32m      3\u001b[0m \u001b[0;31m# Flatten the output layer to 1 dimension\u001b[0m\u001b[0;34m\u001b[0m\u001b[0;34m\u001b[0m\u001b[0;34m\u001b[0m\u001b[0m\n\u001b[0;32m----> 4\u001b[0;31m \u001b[0mx\u001b[0m \u001b[0;34m=\u001b[0m \u001b[0mlayers\u001b[0m\u001b[0;34m.\u001b[0m\u001b[0mFlatten\u001b[0m\u001b[0;34m(\u001b[0m\u001b[0;34m)\u001b[0m\u001b[0;34m(\u001b[0m\u001b[0mlast_output\u001b[0m\u001b[0;34m)\u001b[0m\u001b[0;34m\u001b[0m\u001b[0;34m\u001b[0m\u001b[0m\n\u001b[0m\u001b[1;32m      5\u001b[0m \u001b[0;31m# Add a fully connected layer with hu hidden units and ReLU activation\u001b[0m\u001b[0;34m\u001b[0m\u001b[0;34m\u001b[0m\u001b[0;34m\u001b[0m\u001b[0m\n\u001b[1;32m      6\u001b[0m \u001b[0mx\u001b[0m \u001b[0;34m=\u001b[0m \u001b[0mlayers\u001b[0m\u001b[0;34m.\u001b[0m\u001b[0mDense\u001b[0m\u001b[0;34m(\u001b[0m\u001b[0mhu\u001b[0m\u001b[0;34m,\u001b[0m \u001b[0mactivation\u001b[0m\u001b[0;34m=\u001b[0m\u001b[0;34m'relu'\u001b[0m\u001b[0;34m)\u001b[0m\u001b[0;34m(\u001b[0m\u001b[0mx\u001b[0m\u001b[0;34m)\u001b[0m\u001b[0;34m\u001b[0m\u001b[0;34m\u001b[0m\u001b[0m\n",
            "\u001b[0;31mNameError\u001b[0m: name 'layers' is not defined"
          ]
        }
      ]
    },
    {
      "cell_type": "code",
      "metadata": {
        "id": "HrnL_IQ8knWA"
      },
      "source": [
        "# # Get the Horse or Human dataset\n",
        "# !wget --no-check-certificate https://storage.googleapis.com/laurencemoroney-blog.appspot.com/horse-or-human.zip -O /tmp/horse-or-human.zip\n",
        "\n",
        "# # Get the Horse or Human Validation dataset\n",
        "# !wget --no-check-certificate https://storage.googleapis.com/laurencemoroney-blog.appspot.com/validation-horse-or-human.zip -O /tmp/validation-horse-or-human.zip \n",
        "  \n",
        "\n",
        "\n",
        "\n",
        "# local_zip = '//tmp/horse-or-human.zip'\n",
        "# zip_ref = zipfile.ZipFile(local_zip, 'r')\n",
        "# zip_ref.extractall('/tmp/training')\n",
        "# zip_ref.close()\n",
        "\n",
        "# local_zip = '//tmp/validation-horse-or-human.zip'\n",
        "# zip_ref = zipfile.ZipFile(local_zip, 'r')\n",
        "# zip_ref.extractall('/tmp/validation')\n",
        "# zip_ref.close()"
      ],
      "execution_count": null,
      "outputs": []
    },
    {
      "cell_type": "code",
      "metadata": {
        "id": "y9okX7_ovskI"
      },
      "source": [
        "# train_horses_dir = os.path.join(train_dir, 'horses') # Directory with our training horse pictures\n",
        "# train_humans_dir = os.path.join(train_dir, 'humans') # Directory with our training humans pictures\n",
        "# validation_horses_dir = os.path.join(validation_dir, 'horses') # Directory with our validation horse pictures\n",
        "# validation_humans_dir = os.path.join(validation_dir, 'humans')# Directory with our validation humanas pictures\n",
        "\n",
        "# train_horses_fnames = os.listdir(train_horses_dir)\n",
        "# train_humans_fnames = os.listdir(train_humans_dir)\n",
        "# validation_horses_fnames = os.listdir(validation_horses_dir)\n",
        "# validation_humans_fnames = os.listdir(validation_humans_dir)\n",
        "\n",
        "# print(len(train_horses_fnames))\n",
        "# print(len(train_humans_fnames))\n",
        "# print(len(validation_horses_fnames))\n",
        "# print(len(validation_humans_fnames))\n",
        "\n",
        "# # Expected Output:\n",
        "# # 500\n",
        "# # 527\n",
        "# # 128\n",
        "# # 128"
      ],
      "execution_count": null,
      "outputs": []
    },
    {
      "cell_type": "code",
      "metadata": {
        "id": "mNqO1M4NzDBi",
        "outputId": "2926c03f-c611-4acd-ea88-5840e3a954d8",
        "colab": {
          "base_uri": "https://localhost:8080/"
        }
      },
      "source": [
        ""
      ],
      "execution_count": null,
      "outputs": [
        {
          "output_type": "stream",
          "text": [
            "Mounted at /content/gdrive\n"
          ],
          "name": "stdout"
        }
      ]
    },
    {
      "cell_type": "code",
      "metadata": {
        "id": "O4s8HckqGlnb",
        "outputId": "e049f0f1-9b5e-47e1-90c9-0832de6d4d3e",
        "colab": {
          "base_uri": "https://localhost:8080/"
        }
      },
      "source": [
        "\n",
        "# Define our example directories and files\n",
        "train_dir = '/content/gdrive/My Drive/dataset/mycopy/train_data'\n",
        "validation_dir = '/content/gdrive/My Drive/dataset/mycopy/test_data'\n",
        "\n",
        "# Add our data-augmentation parameters to ImageDataGenerator\n",
        "train_datagen = ImageDataGenerator(rescale = 1./255.,\n",
        "                                   rotation_range = 40,\n",
        "                                   width_shift_range = 0.2,\n",
        "                                   height_shift_range = 0.2,\n",
        "                                   shear_range = 0.2,\n",
        "                                   zoom_range = 0.2,\n",
        "                                   horizontal_flip = True)\n",
        "\n",
        "# Note that the validation data should not be augmented!\n",
        "test_datagen = ImageDataGenerator( rescale = 1.0/255. )\n",
        "\n",
        "# Flow training images in batches of 20 using train_datagen generator\n",
        "train_generator = train_datagen.flow_from_directory(train_dir,\n",
        "                                                    batch_size = 1,\n",
        "                                                    class_mode = 'categorical', \n",
        "                                                    target_size = (150, 150))     \n",
        "\n",
        "# Flow validation images in batches of 20 using test_datagen generator\n",
        "validation_generator =  test_datagen.flow_from_directory( validation_dir,\n",
        "                                                          batch_size  = 1,\n",
        "                                                          class_mode  = 'categorical', \n",
        "                                                          target_size = (150, 150))"
      ],
      "execution_count": null,
      "outputs": [
        {
          "output_type": "stream",
          "text": [
            "Found 60 images belonging to 3 classes.\n",
            "Found 60 images belonging to 3 classes.\n"
          ],
          "name": "stdout"
        }
      ]
    },
    {
      "cell_type": "code",
      "metadata": {
        "id": "Blhq2MAUeyGA",
        "outputId": "83156221-eec5-4344-ce51-4b04f4ef7e02",
        "colab": {
          "base_uri": "https://localhost:8080/"
        }
      },
      "source": [
        "# Run this and see how many epochs it should take before the callback\n",
        "# fires, and stops training at 99.9% accuracy\n",
        "# (It should take less than 100 epochs)\n",
        "callbacks = myCallback()\n",
        "history = model.fit_generator(\n",
        "            train_generator,\n",
        "            validation_data = validation_generator,\n",
        "            steps_per_epoch = 18,\n",
        "            epochs = 80,\n",
        "            validation_steps = 6,\n",
        "            verbose = 2,\n",
        "            callbacks=[callbacks])"
      ],
      "execution_count": null,
      "outputs": [
        {
          "output_type": "stream",
          "text": [
            "Epoch 1/80\n",
            "18/18 - 1s - loss: 0.7928 - acc: 0.7778 - val_loss: 0.8632 - val_acc: 0.5000\n",
            "Epoch 2/80\n",
            "18/18 - 0s - loss: 0.6612 - acc: 0.7778 - val_loss: 0.6950 - val_acc: 0.5000\n",
            "Epoch 3/80\n",
            "18/18 - 1s - loss: 0.5229 - acc: 0.8333 - val_loss: 0.6440 - val_acc: 0.8333\n",
            "Epoch 4/80\n",
            "18/18 - 0s - loss: 0.4402 - acc: 0.7778 - val_loss: 0.4582 - val_acc: 1.0000\n",
            "Epoch 5/80\n",
            "18/18 - 1s - loss: 0.3699 - acc: 0.9444 - val_loss: 0.5507 - val_acc: 0.8333\n",
            "Epoch 6/80\n",
            "18/18 - 1s - loss: 0.2969 - acc: 0.9444 - val_loss: 0.2745 - val_acc: 1.0000\n",
            "Epoch 7/80\n",
            "18/18 - 0s - loss: 0.3710 - acc: 0.8889 - val_loss: 0.3680 - val_acc: 1.0000\n",
            "Epoch 8/80\n",
            "18/18 - 1s - loss: 0.2841 - acc: 0.9444 - val_loss: 0.6107 - val_acc: 0.8333\n",
            "Epoch 9/80\n",
            "18/18 - 0s - loss: 0.2359 - acc: 0.9444 - val_loss: 0.5935 - val_acc: 0.6667\n",
            "Epoch 10/80\n",
            "18/18 - 0s - loss: 0.3845 - acc: 0.8333 - val_loss: 0.6547 - val_acc: 0.6667\n",
            "Epoch 11/80\n",
            "18/18 - 1s - loss: 0.3087 - acc: 0.8889 - val_loss: 0.2267 - val_acc: 1.0000\n",
            "Epoch 12/80\n",
            "18/18 - 0s - loss: 0.2543 - acc: 0.8889 - val_loss: 0.3119 - val_acc: 1.0000\n",
            "Epoch 13/80\n",
            "18/18 - 0s - loss: 0.2869 - acc: 0.8333 - val_loss: 0.1710 - val_acc: 1.0000\n",
            "Epoch 14/80\n",
            "18/18 - 0s - loss: 0.1517 - acc: 0.9444 - val_loss: 0.1758 - val_acc: 1.0000\n",
            "Epoch 15/80\n",
            "\n",
            "Reached 99% accuracy so cancelling training!\n",
            "18/18 - 0s - loss: 0.0698 - acc: 1.0000 - val_loss: 0.2028 - val_acc: 1.0000\n"
          ],
          "name": "stdout"
        }
      ]
    },
    {
      "cell_type": "code",
      "metadata": {
        "id": "C2Fp6Se9rKuL",
        "outputId": "ee9df523-ec53-4e18-fe50-b4551dc6f4d0",
        "colab": {
          "base_uri": "https://localhost:8080/",
          "height": 299
        }
      },
      "source": [
        "import matplotlib.pyplot as plt\n",
        "acc = history.history['acc']\n",
        "val_acc = history.history['val_acc']\n",
        "loss = history.history['loss']\n",
        "val_loss = history.history['val_loss']\n",
        "\n",
        "epochs = range(len(acc))\n",
        "\n",
        "plt.plot(epochs, acc, 'r', label='Training accuracy')\n",
        "plt.plot(epochs, val_acc, 'b', label='Validation accuracy')\n",
        "plt.title('Training and validation accuracy')\n",
        "plt.legend(loc=0)\n",
        "plt.figure()\n",
        "\n",
        "\n",
        "plt.show()"
      ],
      "execution_count": null,
      "outputs": [
        {
          "output_type": "display_data",
          "data": {
            "image/png": "[encoded data removed]",
            "text/plain": [
              "<Figure size 432x288 with 1 Axes>"
            ]
          },
          "metadata": {
            "tags": [],
            "needs_background": "light"
          }
        },
        {
          "output_type": "display_data",
          "data": {
            "text/plain": [
              "<Figure size 432x288 with 0 Axes>"
            ]
          },
          "metadata": {
            "tags": []
          }
        }
      ]
    },
    {
      "cell_type": "code",
      "metadata": {
        "id": "70UoeCcl9V1d"
      },
      "source": [
        ""
      ],
      "execution_count": null,
      "outputs": []
    }
  ]
}